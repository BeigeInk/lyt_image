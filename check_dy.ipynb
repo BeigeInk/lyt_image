{
 "cells": [
  {
   "cell_type": "code",
   "execution_count": 31,
   "id": "5edf1613",
   "metadata": {},
   "outputs": [],
   "source": [
    "import torch,os\n",
    "from torchvision import transforms\n",
    "import torch.utils.data as data\n",
    "from PIL import Image\n",
    "import torch.nn as nn"
   ]
  },
  {
   "cell_type": "code",
   "execution_count": null,
   "id": "6896213c",
   "metadata": {},
   "outputs": [],
   "source": []
  },
  {
   "cell_type": "code",
   "execution_count": 51,
   "id": "2c1b2124",
   "metadata": {},
   "outputs": [],
   "source": [
    "class VGG(nn.Module):#11\n",
    "    def __init__(self):\n",
    "        super(VGG, self).__init__()\n",
    "        self.conv = nn.Sequential(\n",
    "            nn.Conv2d(3, 6, 5), \n",
    "            nn.ReLU(),\n",
    "            nn.MaxPool2d(2,2),\n",
    "            nn.Conv2d(6,16,5),\n",
    "            nn.ReLU(),\n",
    "            nn.MaxPool2d(2,2)\n",
    "        )\n",
    "        self.fc = nn.Sequential(\n",
    "            nn.Linear(16*18*18, 1024),\n",
    "            nn.ReLU(),\n",
    "            #nn.Linear(1024,512),\n",
    "           # nn.ReLU(),\n",
    "            nn.Linear(1024, 1),\n",
    "            #nn.ReLU()\n",
    "            nn.Sigmoid()\n",
    "        )\n",
    "        \n",
    "    def forward(self, x):\n",
    "        x = self.conv(x)\n",
    "        x = x.view(-1,16*18*18)\n",
    "       # print(x.shape)\n",
    "        x = self.fc(x)\n",
    "        return x"
   ]
  },
  {
   "cell_type": "code",
   "execution_count": 52,
   "id": "c6c13d11",
   "metadata": {},
   "outputs": [],
   "source": [
    "TRANSFORM = transforms.Compose([transforms.Resize((84,84)),\n",
    "                                transforms.ToTensor()\n",
    "                               # transforms.Normalize((0.485,0.456,0.406),(0.229,0.224,0.225))\n",
    "                               ])"
   ]
  },
  {
   "cell_type": "code",
   "execution_count": 53,
   "id": "f96faabf",
   "metadata": {},
   "outputs": [
    {
     "data": {
      "text/plain": [
       "<All keys matched successfully>"
      ]
     },
     "execution_count": 53,
     "metadata": {},
     "output_type": "execute_result"
    }
   ],
   "source": [
    "model=VGG()\n",
    "model.load_state_dict(torch.load('./output/[25]-L(0.548469)E(19.167).pt'))\n",
    "#model=torch.load('./output/[25]-L(0.548469)E(19.167).pt')"
   ]
  },
  {
   "cell_type": "code",
   "execution_count": 56,
   "id": "d0fd82c4",
   "metadata": {},
   "outputs": [
    {
     "name": "stdout",
     "output_type": "stream",
     "text": [
      "tensor([[0.0419]], grad_fn=<SigmoidBackward0>)\n",
      "tensor([[0.4822]], grad_fn=<SigmoidBackward0>)\n",
      "tensor([[0.9996]], grad_fn=<SigmoidBackward0>)\n",
      "tensor([[0.3794]], grad_fn=<SigmoidBackward0>)\n",
      "tensor([[0.9456]], grad_fn=<SigmoidBackward0>)\n",
      "tensor([[0.9759]], grad_fn=<SigmoidBackward0>)\n",
      "tensor([[0.9998]], grad_fn=<SigmoidBackward0>)\n",
      "tensor([[0.7791]], grad_fn=<SigmoidBackward0>)\n",
      "tensor([[0.1209]], grad_fn=<SigmoidBackward0>)\n",
      "tensor([[0.9908]], grad_fn=<SigmoidBackward0>)\n",
      "tensor([[0.9954]], grad_fn=<SigmoidBackward0>)\n",
      "tensor([[0.7651]], grad_fn=<SigmoidBackward0>)\n",
      "tensor([[0.7854]], grad_fn=<SigmoidBackward0>)\n",
      "tensor([[0.7135]], grad_fn=<SigmoidBackward0>)\n",
      "tensor([[0.2380]], grad_fn=<SigmoidBackward0>)\n",
      "tensor([[0.1671]], grad_fn=<SigmoidBackward0>)\n",
      "tensor([[0.9996]], grad_fn=<SigmoidBackward0>)\n",
      "tensor([[0.7858]], grad_fn=<SigmoidBackward0>)\n",
      "tensor([[0.9999]], grad_fn=<SigmoidBackward0>)\n",
      "tensor([[0.9919]], grad_fn=<SigmoidBackward0>)\n",
      "tensor([[0.6882]], grad_fn=<SigmoidBackward0>)\n",
      "tensor([[0.0775]], grad_fn=<SigmoidBackward0>)\n",
      "tensor([[0.9954]], grad_fn=<SigmoidBackward0>)\n",
      "tensor([[0.0750]], grad_fn=<SigmoidBackward0>)\n",
      "tensor([[0.2454]], grad_fn=<SigmoidBackward0>)\n",
      "----\n",
      "tensor([[0.2973]], grad_fn=<SigmoidBackward0>)\n",
      "tensor([[0.8589]], grad_fn=<SigmoidBackward0>)\n",
      "tensor([[0.5039]], grad_fn=<SigmoidBackward0>)\n",
      "tensor([[0.0484]], grad_fn=<SigmoidBackward0>)\n",
      "tensor([[0.9921]], grad_fn=<SigmoidBackward0>)\n",
      "tensor([[0.8675]], grad_fn=<SigmoidBackward0>)\n",
      "tensor([[0.2365]], grad_fn=<SigmoidBackward0>)\n",
      "tensor([[0.4118]], grad_fn=<SigmoidBackward0>)\n",
      "tensor([[0.6098]], grad_fn=<SigmoidBackward0>)\n",
      "tensor([[0.2501]], grad_fn=<SigmoidBackward0>)\n",
      "tensor([[0.0444]], grad_fn=<SigmoidBackward0>)\n",
      "tensor([[0.1337]], grad_fn=<SigmoidBackward0>)\n",
      "tensor([[0.6572]], grad_fn=<SigmoidBackward0>)\n",
      "tensor([[0.5917]], grad_fn=<SigmoidBackward0>)\n",
      "tensor([[0.7354]], grad_fn=<SigmoidBackward0>)\n",
      "tensor([[0.4725]], grad_fn=<SigmoidBackward0>)\n",
      "tensor([[0.3046]], grad_fn=<SigmoidBackward0>)\n",
      "tensor([[0.0968]], grad_fn=<SigmoidBackward0>)\n",
      "tensor([[0.7836]], grad_fn=<SigmoidBackward0>)\n",
      "tensor([[0.2897]], grad_fn=<SigmoidBackward0>)\n",
      "tensor([[0.1655]], grad_fn=<SigmoidBackward0>)\n",
      "tensor([[0.2102]], grad_fn=<SigmoidBackward0>)\n",
      "tensor([[0.0550]], grad_fn=<SigmoidBackward0>)\n",
      "tensor([[0.5111]], grad_fn=<SigmoidBackward0>)\n",
      "tensor([[0.0177]], grad_fn=<SigmoidBackward0>)\n"
     ]
    }
   ],
   "source": [
    "root_dir=os.getcwd()\n",
    "test=os.path.join(root_dir,'dataset/test/')\n",
    "t_t=os.path.join(test,'lt/')\n",
    "f_t=os.path.join(test,'ult/')\n",
    "for i in list(os.walk(t_t))[0][2]:\n",
    "    #print(i)\n",
    "    index=os.path.join(t_t,i)\n",
    "    img=Image.open(index)\n",
    "    data_img=TRANSFORM(img.convert(\"RGB\"))\n",
    "    t=model(data_img)\n",
    "    print(t)\n",
    "    img.close()\n",
    "print('----')\n",
    "for i in list(os.walk(f_t))[0][2]:\n",
    "    #print(i)\n",
    "    index=os.path.join(f_t,i)\n",
    "    img=Image.open(index)\n",
    "    data_img=TRANSFORM(img.convert(\"RGB\"))\n",
    "    t=model(data_img)\n",
    "    print(t)\n",
    "    img.close()"
   ]
  },
  {
   "cell_type": "code",
   "execution_count": 78,
   "id": "a6dfdecc",
   "metadata": {},
   "outputs": [],
   "source": [
    "import base64,re\n",
    "from PIL import Image\n",
    "from io import BytesIO\n",
    "import torch,os\n",
    "from torchvision import transforms\n",
    "import torch.utils.data as data\n",
    "import torch.nn as nn\n",
    "\n",
    "class net(nn.Module):#11\n",
    "    def __init__(self):\n",
    "        super(net, self).__init__()\n",
    "        self.conv = nn.Sequential(\n",
    "            nn.Conv2d(3, 6, 5), \n",
    "            nn.ReLU(),\n",
    "            nn.MaxPool2d(2,2),\n",
    "            nn.Conv2d(6,16,5),\n",
    "            nn.ReLU(),\n",
    "            nn.MaxPool2d(2,2)\n",
    "        )\n",
    "        self.fc = nn.Sequential(\n",
    "            nn.Linear(16*18*18, 1024),\n",
    "            nn.ReLU(),\n",
    "            nn.Linear(1024, 1),\n",
    "            nn.Sigmoid()\n",
    "        )\n",
    "        \n",
    "    def forward(self, x):\n",
    "        x = self.conv(x)\n",
    "        x = x.view(-1,16*18*18)\n",
    "        x = self.fc(x)\n",
    "        return x\n",
    "\n",
    "TRANSFORM = transforms.Compose([transforms.Resize((84,84)),\n",
    "                                transforms.ToTensor()\n",
    "                               ])\n",
    "\n",
    "def base64_to_image(base64_str):\n",
    "    base64_data = re.sub('^data:image/.+;base64,', '', base64_str)\n",
    "    byte_data = base64.b64decode(base64_data)\n",
    "    image_data = BytesIO(byte_data)\n",
    "    img = Image.open(image_data)\n",
    "    return img\n",
    "\n",
    "def check_ba64(base_64_pic):\n",
    "    img=base64_to_image(base_64_pic)\n",
    "    tr=TRANSFORM(img.convert(\"RGB\"))\n",
    "    model=net()\n",
    "    model.load_state_dict(torch.load('./output/[25]-L(0.548469)E(19.167).pt'))\n",
    "    result=model(tr)\n",
    "    print(float(result))"
   ]
  },
  {
   "cell_type": "code",
   "execution_count": 79,
   "id": "c76fab87",
   "metadata": {},
   "outputs": [],
   "source": [
    "code_ba='data:image/jpg;base64,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'"
   ]
  },
  {
   "cell_type": "code",
   "execution_count": 80,
   "id": "33a972dd",
   "metadata": {},
   "outputs": [
    {
     "name": "stdout",
     "output_type": "stream",
     "text": [
      "0.9519183039665222\n"
     ]
    }
   ],
   "source": [
    "check_ba64(base_64_pic=code_ba)"
   ]
  },
  {
   "cell_type": "code",
   "execution_count": null,
   "id": "5e8724ff",
   "metadata": {},
   "outputs": [],
   "source": []
  }
 ],
 "metadata": {
  "kernelspec": {
   "display_name": "Python 3 (ipykernel)",
   "language": "python",
   "name": "python3"
  },
  "language_info": {
   "codemirror_mode": {
    "name": "ipython",
    "version": 3
   },
   "file_extension": ".py",
   "mimetype": "text/x-python",
   "name": "python",
   "nbconvert_exporter": "python",
   "pygments_lexer": "ipython3",
   "version": "3.9.7"
  }
 },
 "nbformat": 4,
 "nbformat_minor": 5
}
